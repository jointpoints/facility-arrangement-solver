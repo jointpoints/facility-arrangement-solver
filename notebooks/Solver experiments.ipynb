{
 "cells": [
  {
   "cell_type": "markdown",
   "metadata": {},
   "source": [
    "# CPLEX Solver"
   ]
  },
  {
   "cell_type": "code",
   "execution_count": 1,
   "metadata": {},
   "outputs": [],
   "source": [
    "import cplex\n",
    "from collections import namedtuple"
   ]
  },
  {
   "cell_type": "code",
   "execution_count": 2,
   "metadata": {},
   "outputs": [],
   "source": [
    "SubjectGroup = namedtuple('SubjectGroup', ('input_capacity', 'output_capacity', 'area'))"
   ]
  },
  {
   "cell_type": "code",
   "execution_count": 3,
   "metadata": {},
   "outputs": [],
   "source": [
    "Point = namedtuple('Point', ('x', 'y', 'area'))"
   ]
  },
  {
   "cell_type": "code",
   "execution_count": 4,
   "metadata": {},
   "outputs": [],
   "source": [
    "class TotalFlows:\n",
    "\tdef __init__(self, groups: \"dict[str, SubjectGroup]\"):\n",
    "\t\tself.total_flow = {(i, j) : 0 for i in groups for j in groups}\n",
    "\t\tself.groups = tuple(groups.keys())\n",
    "\t\treturn\n",
    "\n",
    "\tdef set_flow(self, group_a: str, group_b: str, new_flow: int):\n",
    "\t\tif (group_a, group_b) not in self.total_flow:\n",
    "\t\t\traise KeyError\n",
    "\t\tself.total_flow[(group_a, group_b)] = new_flow\n",
    "\t\treturn\n",
    "\t\n",
    "\tdef __getitem__(self, key: \"tuple[str, str]\"):\n",
    "\t\treturn self.total_flow[key]\n",
    "\t\n",
    "\tdef get_in_flow(self, group: str):\n",
    "\t\treturn sum(self.total_flow[(i, group)] for i in self.groups)\n",
    "\t\n",
    "\tdef get_out_flow(self, group: str):\n",
    "\t\treturn sum(self.total_flow[(group, j)] for j in self.groups)"
   ]
  },
  {
   "cell_type": "code",
   "execution_count": 5,
   "metadata": {},
   "outputs": [],
   "source": [
    "def arrange_0(points: \"dict[str, Point]\", distance, groups: \"dict[str, SubjectGroup]\", total_flows: TotalFlows):\n",
    "\tceil = lambda x: x if x == int(x) else int(x) + 1\n",
    "\t# Compute the sufficient number of subjects for each group\n",
    "\ttotal_subject_count = {i : max(ceil(total_flows.get_in_flow(i) / groups[i].input_capacity), ceil(total_flows.get_out_flow(i) / groups[i].output_capacity)) for i in groups}\n",
    "\t# Compute total production by each subject group\n",
    "\ttotal_production_count = {i : total_flows.get_out_flow(i) - total_flows.get_in_flow(i) for i in groups}\n",
    "\t# CPLEX model\n",
    "\tcplex_model = cplex.Cplex()\n",
    "\tcplex_model.objective.set_sense(cplex_model.objective.sense.minimize)\n",
    "\t# CPLEX variables\n",
    "\tcplex_model.variables.add \\\n",
    "\t(\n",
    "\t\tnames=[f'f({i},{j})[{u},{v}]' for i in groups for j in groups for u in points for v in points],\n",
    "\t\tlb=[0] * len(groups)**2 * len(points)**2,\n",
    "\t\tub=[total_flows[(i, j)] for i in groups for j in groups for u in points for v in points],\n",
    "\t\ttypes=[cplex_model.variables.type.integer] * len(groups)**2 * len(points)**2\n",
    "\t)\n",
    "\tcplex_model.variables.add \\\n",
    "\t(\n",
    "\t\tnames=[f'n({i})[{u}]' for i in groups for u in points],\n",
    "\t\tlb=[0] * len(groups) * len(points),\n",
    "\t\tub=[total_subject_count[i] for i in groups for u in points],\n",
    "\t\ttypes=[cplex_model.variables.type.integer] * len(groups) * len(points)\n",
    "\t)\n",
    "\tcplex_model.variables.add \\\n",
    "\t(\n",
    "\t\tnames=[f'g({i})[{u}]' for i in groups for u in points],\n",
    "\t\tlb=[0 if total_production_count[i] >= 0 else total_production_count[i] for i in groups for u in points],\n",
    "\t\tub=[total_production_count[i] if total_production_count[i] >= 0 else 0 for i in groups for u in points],\n",
    "\t\ttypes=[cplex_model.variables.type.integer] * len(groups) * len(points)\n",
    "\t)\n",
    "\t# Objective function\n",
    "\tcplex_model.objective.set_linear(tuple((f'f({i},{j})[{u},{v}]', distance[(u, v)]) for i in groups for j in groups for u in points for v in points))\n",
    "\t# Constraints\n",
    "\tfor i in groups:\n",
    "\t\tfor u in points:\n",
    "\t\t\tcplex_constr_output = cplex.SparsePair \\\n",
    "\t\t\t(\n",
    "\t\t\t\tind=tuple(f'f({i},{j})[{u},{v}]' for j in groups for v in points) + (f'n({i})[{u}]',),\n",
    "\t\t\t\tval=(1,) * len(groups) * len(points)                              + (- groups[i].output_capacity,)\n",
    "\t\t\t)\n",
    "\t\t\tcplex_constr_input = cplex.SparsePair \\\n",
    "\t\t\t(\n",
    "\t\t\t\tind=tuple(f'f({j},{i})[{v},{u}]' for j in groups for v in points) + (f'n({i})[{u}]',),\n",
    "\t\t\t\tval=(1,) * len(groups) * len(points)                              + (- groups[i].input_capacity,)\n",
    "\t\t\t)\n",
    "\t\t\tcplex_constr_kirchhoff = cplex.SparsePair \\\n",
    "\t\t\t(\n",
    "\t\t\t\tind=tuple(f'f({i},{j})[{u},{v}]' for j in groups for v in points) + (f'g({i})[{u}]',) + tuple(f'f({j},{i})[{v},{u}]' for j in groups for v in points if j != i),\n",
    "\t\t\t\tval=(1,) * len(groups) * len(points)                              + (- 1,)            + tuple(- 1 for j in groups for v in points if j != i)\n",
    "\t\t\t)\n",
    "\t\t\tcplex_model.linear_constraints.add \\\n",
    "\t\t\t(\n",
    "\t\t\t\tlin_expr=(cplex_constr_output, cplex_constr_input, cplex_constr_kirchhoff),\n",
    "\t\t\t\tsenses=('L', 'L', 'E'),\n",
    "\t\t\t\trhs=(0, 0, 0)\n",
    "\t\t\t)\n",
    "\t\tcplex_constr_total_production = cplex.SparsePair \\\n",
    "\t\t(\n",
    "\t\t\tind=tuple(f'g({i})[{u}]' for u in points),\n",
    "\t\t\tval=(1,) * len(points)\n",
    "\t\t)\n",
    "\t\tcplex_constr_total_subject_count = cplex.SparsePair \\\n",
    "\t\t(\n",
    "\t\t\tind=tuple(f'n({i})[{u}]' for u in points),\n",
    "\t\t\tval=(1,) * len(points)\n",
    "\t\t)\n",
    "\t\tcplex_model.linear_constraints.add \\\n",
    "\t\t(\n",
    "\t\t\tlin_expr=(cplex_constr_total_production, cplex_constr_total_subject_count),\n",
    "\t\t\tsenses=('E', 'E'),\n",
    "\t\t\trhs=(total_production_count[i], total_subject_count[i])\n",
    "\t\t)\n",
    "\t\tfor j in groups:\n",
    "\t\t\tcplex_constr_total_flow = cplex.SparsePair \\\n",
    "\t\t\t(\n",
    "\t\t\t\tind=tuple(f'f({i},{j})[{u},{v}]' for u in points for v in points),\n",
    "\t\t\t\tval=(1,) * len(points)**2\n",
    "\t\t\t)\n",
    "\t\t\tcplex_model.linear_constraints.add \\\n",
    "\t\t\t(\n",
    "\t\t\t\tlin_expr=(cplex_constr_total_flow,),\n",
    "\t\t\t\tsenses=('E',),\n",
    "\t\t\t\trhs=(total_flows[(i, j)],)\n",
    "\t\t\t)\n",
    "\tfor u in points:\n",
    "\t\tcplex_constr_area = cplex.SparsePair \\\n",
    "\t\t(\n",
    "\t\t\tind=tuple(f'n({i})[{u}]' for i in groups),\n",
    "\t\t\tval=tuple(groups[i].area for i in groups)\n",
    "\t\t)\n",
    "\t\tcplex_model.linear_constraints.add \\\n",
    "\t\t(\n",
    "\t\t\tlin_expr=(cplex_constr_area,),\n",
    "\t\t\tsenses=('L',),\n",
    "\t\t\trhs=(points[u].area,)\n",
    "\t\t)\n",
    "\t# Solve\n",
    "\tcplex_model.solve()\n",
    "\tif (cplex_model.solution.get_status() != 103):\n",
    "\t\tcplex_model.solution.write('test.sol')\n",
    "\treturn"
   ]
  },
  {
   "cell_type": "markdown",
   "metadata": {},
   "source": [
    "## 2. Input data"
   ]
  },
  {
   "cell_type": "code",
   "execution_count": 6,
   "metadata": {},
   "outputs": [],
   "source": [
    "points = {f'({i},{j})' : Point(i, j, 1) for i in range(1, 4) for j in range(1, 4)}\n",
    "groups = {'A' : SubjectGroup(1, 30, 1), 'B' : SubjectGroup(25, 20, 1), 'C' : SubjectGroup(100, 1, 1)}\n",
    "distance = {(u, v) : abs(points[u].x - points[v].x) + abs(points[u].y - points[v].y) for u in points for v in points}\n",
    "total_flows = TotalFlows(groups)\n",
    "total_flows.set_flow('A', 'B', 55)\n",
    "total_flows.set_flow('A', 'C', 45)\n",
    "total_flows.set_flow('B', 'C', 40)"
   ]
  },
  {
   "cell_type": "code",
   "execution_count": 7,
   "metadata": {},
   "outputs": [
    {
     "name": "stdout",
     "output_type": "stream",
     "text": [
      "Version identifier: 20.1.0.0 | 2020-11-10 | 9bedb6d68\n",
      "CPXPARAM_Read_DataCheck                          1\n",
      "Tried aggregator 2 times.\n",
      "MIP Presolve eliminated 24 rows and 486 columns.\n",
      "MIP Presolve modified 324 coefficients.\n",
      "Aggregator did 18 substitutions.\n",
      "Reduced MIP has 61 rows, 279 columns, and 999 nonzeros.\n",
      "Reduced MIP has 27 binaries, 252 generals, 0 SOSs, and 0 indicators.\n",
      "Presolve time = 0.00 sec. (1.29 ticks)\n",
      "Found incumbent of value 215.000000 after 0.00 sec. (2.17 ticks)\n",
      "Probing fixed 0 vars, tightened 27 bounds.\n",
      "Probing time = 0.01 sec. (0.29 ticks)\n",
      "Tried aggregator 1 time.\n",
      "Detecting symmetries...\n",
      "MIP Presolve eliminated 0 rows and 27 columns.\n",
      "Reduced MIP has 61 rows, 252 columns, and 900 nonzeros.\n",
      "Reduced MIP has 27 binaries, 225 generals, 0 SOSs, and 0 indicators.\n",
      "Presolve time = 0.00 sec. (0.66 ticks)\n",
      "Probing time = 0.00 sec. (0.27 ticks)\n",
      "Clique table members: 10.\n",
      "MIP emphasis: balance optimality and feasibility.\n",
      "MIP search method: dynamic search.\n",
      "Parallel mode: deterministic, using up to 12 threads.\n",
      "Root relaxation solution time = 0.02 sec. (0.47 ticks)\n",
      "\n",
      "        Nodes                                         Cuts/\n",
      "   Node  Left     Objective  IInf  Best Integer    Best Bound    ItCnt     Gap\n",
      "\n",
      "*     0+    0                          215.0000        0.0000           100.00%\n",
      "*     0+    0                          207.0000        0.0000           100.00%\n",
      "*     0+    0                          198.0000        0.0000           100.00%\n",
      "*     0+    0                          189.0000        0.0000           100.00%\n",
      "*     0+    0                          181.0000        0.0000           100.00%\n",
      "      0     0      140.0000    23      181.0000      140.0000       79   22.65%\n",
      "*     0+    0                          160.0000      140.0000            12.50%\n",
      "*     0+    0                          140.0000      140.0000             0.00%\n",
      "      0     0        cutoff            140.0000      140.0000       79    0.00%\n",
      "Elapsed time = 0.06 sec. (8.59 ticks, tree = 0.01 MB, solutions = 7)\n",
      "\n",
      "Root node processing (before b&c):\n",
      "  Real time             =    0.06 sec. (8.65 ticks)\n",
      "Parallel b&c, 12 threads:\n",
      "  Real time             =    0.00 sec. (0.00 ticks)\n",
      "  Sync time (average)   =    0.00 sec.\n",
      "  Wait time (average)   =    0.00 sec.\n",
      "                          ------------\n",
      "Total (root+branch&cut) =    0.06 sec. (8.65 ticks)\n"
     ]
    }
   ],
   "source": [
    "arrange_0(points, distance, groups, total_flows)"
   ]
  }
 ],
 "metadata": {
  "kernelspec": {
   "display_name": "Python 3.8.8 64-bit",
   "language": "python",
   "name": "python3"
  },
  "language_info": {
   "codemirror_mode": {
    "name": "ipython",
    "version": 3
   },
   "file_extension": ".py",
   "mimetype": "text/x-python",
   "name": "python",
   "nbconvert_exporter": "python",
   "pygments_lexer": "ipython3",
   "version": "3.8.8"
  },
  "orig_nbformat": 4,
  "vscode": {
   "interpreter": {
    "hash": "1938cb865a2c5e8e7faff65d6d1ca7b15664b9f89699bafc77befb4b41319532"
   }
  }
 },
 "nbformat": 4,
 "nbformat_minor": 2
}
